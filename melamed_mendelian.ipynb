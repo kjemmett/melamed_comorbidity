{
 "metadata": {
  "name": ""
 },
 "nbformat": 3,
 "nbformat_minor": 0,
 "worksheets": [
  {
   "cells": [
    {
     "cell_type": "heading",
     "level": 1,
     "metadata": {},
     "source": [
      "Code and tables to provide reproducibility for \"Genetic similarity between cancers and comorbid Mendelian diseases identifies candidate driver genes\" by Rachel D. Melamed, Kevin J. Emmett, Chioma Madubata, Andrey Rzhetsky, and Raul Rabadan"
     ]
    },
    {
     "cell_type": "markdown",
     "metadata": {},
     "source": [
      "This notebook details the steps taken to get the results in this manuscript. Please download the [zip file](https://dl.dropboxusercontent.com/u/10824188/melamed_mendelian.tar.bz2) to reproduce the analysis, as described below.  Most source data, and all results of running the commands in this notebook, are available in the download, but can be reproduced by running these commands.\n",
      "\n",
      "First, preprocessing loads in the source tables into Python structures, and pre-calculates some information for the analysis. \n",
      "\n",
      "Then, the analysis compares comorbidity to genetic similarity, using multiple methods and using the results from the preprocessing.  This is done both including germline cancer census genes, and excluding these genes.  Statistics for the association are generated, as well as tables showing similarity of comorbid and genetically similar pairs of Mendelian disease and cancer.\n",
      "\n",
      "Additionally, tables are generated allowing reproduction of the figures in the paper.  The figures are produced in MATLAB, and the code for this is also included.\n"
     ]
    },
    {
     "cell_type": "heading",
     "level": 2,
     "metadata": {},
     "source": [
      "Getting started"
     ]
    },
    {
     "cell_type": "markdown",
     "metadata": {},
     "source": [
      "This package is set up to be run from one directory, and it relies on [Anaconda](https://store.continuum.io/cshop/anaconda/anaconda) Python as well as a unix-like environment. Create a directory, and then download the zipped files (including the file for this notebook). Unzip everything, go to the directory everything is unzipped in (*melamed_mendelian*), and type *ipython notebook* to open this notebook within that directory. \n",
      "\n",
      "Besides this notebook, included in the download are a few subdirectories.  Of these, two represent the \"source\" material, the *code* and the *data_source*:\n",
      "\n",
      "* **code**: containing all the python and MATLAB code and bash scripts\n",
      "* **data_source**: containing all downloaded tables.  The source of these tables is listed in this notebook in the appropriate sections, but most of the data is already available in this download.  The exception (due to its size) is the cancer alteration data, described below.\n",
      "\n",
      "These represent the results of running preprocessing to integrate the data and prepare it for the analysis:\n",
      "\n",
      "* **data_processed**: containing some results from running preprocessing on the source data.  This contains our processed results.   The processing steps below can recreate these, or they can be used as is (Section 1.1, 1.3, 1.4)\n",
      "* **mendelian** and **mendelian_germline**: described below, preprocess Mendelian disease data including known germline mutations, and excluding these germline mutations to assess the significance of novel associations (Section 1.2)\n",
      "\n",
      "These represent the results of the analysis:\n",
      "\n",
      "* **comorbid_aggregate**: containing the generated null distributions for the shared genes and shared pathways for the comorbid diseases (Section 2.1)\n",
      "* **comorbidity_analysis_mendelian** and **comorbidity_analysis_mendelian_germline**: containing the predicted disease pairs from the analysis including or excluding the annotated germline mutations, respectively (Section 2.2)\n",
      "* **figwork**: containing all tables needed to make the figures (Section 2.3)\n",
      "\n",
      "One additional directory will be needed if the user wishes to re-run the preprocessing steps. The user will have to download the TCGA analysis results from the Broad instute (Section 1.1), into the firehose results download directory,(**analyses_2013_09_23**).\n",
      "\n",
      "First, we set up the Python script path so we can execute the python commands."
     ]
    },
    {
     "cell_type": "code",
     "collapsed": false,
     "input": [
      "import sys\n",
      "sys.path.append('code')\n",
      "from melamed import *"
     ],
     "language": "python",
     "metadata": {},
     "outputs": [],
     "prompt_number": 9
    },
    {
     "cell_type": "heading",
     "level": 2,
     "metadata": {},
     "source": [
      "1. Preprocessing: setting up the data for the analysis"
     ]
    },
    {
     "cell_type": "markdown",
     "metadata": {},
     "source": [
      "Note that preprocessing can be skipped, and instead the results included in this download can be used in the next section, running the analysis.  The steps to do the preprocessing are included to fully document the method, and also to allow updates to the data.\n",
      "\n",
      "Preprocessing includes:\n",
      "\n",
      "* Linking to TCGA analysis results\n",
      "* Preprocessing Human Protein Reference Database to make a null distribution of protein-protein interactions\n",
      "* Preprocessing FANTOM5 expression data to obtain aggregate gene expression levels and find coexpression of all genes.\n",
      "* Integrating disease-gene annotations from Blair, 2013, with OrphaNet and OMIM annotations\n",
      "* Converting all data sources to common gene symbols using Entrez downloads (ftp://ftp.ncbi.nlm.nih.gov/gene/DATA/GENE_INFO/Mammalia/Homo_sapiens.gene_info.gz)"
     ]
    },
    {
     "cell_type": "heading",
     "level": 3,
     "metadata": {},
     "source": [
      "1.1. Setting up the cancer alteration data"
     ]
    },
    {
     "cell_type": "markdown",
     "metadata": {},
     "source": [
      "As described in the paper, the idea is to compare recurrent somatic genetic alterations in cancer with those in Mendelian disease. We use an independent source to call recurrent somatic genetic alterations, the GISTIC2 and MutSigCV pipelines.  These results are openly available for download using the firehose tool (https://confluence.broadinstitute.org/display/GDAC/Download).  The command below would get the download for the version used in our analysis:\n",
      "\n",
      "    firehose_get -e -tasks mutsig gistic analyses 2013_09_23 READ GBM STAD UCEC THCA HNSC SKCM COAD BLCA LUSC KIRC KIRP LGG LAML PRAD LUAD BRCA OV KICH\n",
      "    \n",
      "This should be downloaded or linked to in the \"melamed_mendelian\" directory.  Then, we set up soft links to these files.  If the version is the same, run the command below to setup links to the cancer data.  Otherwise, edit the .sh file appropriately to change the line:\n",
      "\n",
      "    firehose=analyses__2013_09_23/*/20130923"
     ]
    },
    {
     "cell_type": "code",
     "collapsed": false,
     "input": [
      "!code/setup_cancer_data.sh"
     ],
     "language": "python",
     "metadata": {},
     "outputs": []
    },
    {
     "cell_type": "markdown",
     "metadata": {},
     "source": [
      "Next, we will load the alterations structure into the environment.  This will also load the pathways (Biological Pathways using gene symbol identifiers, downloaded from  http://cpdb.molgen.mpg.de/CPDB) into *data_processed*, and calculate how enriched the cancer alterations are in each pathway.  The resulting enrichment will be saved into *data_processed/alteration_enrichments.pkl*."
     ]
    },
    {
     "cell_type": "code",
     "collapsed": false,
     "input": [
      "alterations = load_cancer_alteration_info()"
     ],
     "language": "python",
     "metadata": {},
     "outputs": [],
     "prompt_number": 18
    },
    {
     "cell_type": "heading",
     "level": 3,
     "metadata": {},
     "source": [
      "1.2 Setting up the Mendelian disease gene and clinical associations"
     ]
    },
    {
     "cell_type": "markdown",
     "metadata": {},
     "source": [
      "This is the main part of the preprocessing. This command will integrate the data to link Mendelian diseases to their causal genes, using Blair, et al. annotation with manual curation and OrphaNet and OMIM's morbidmap.  Also, it will link Mendelian diseases to cancers using the comorbidity derived from Blair, et al.'s supplementary table. The following tables, in *data_source* are derived from publicly available data and are integrated together:\n",
      "\n",
      "* **morbidmap.txt**: from http://www.omim.org/downloads\n",
      "* **orph2**: derived from orphadata.org (see details in code/parse_orphanet.py.  This file was also manually edited, and was where most of the manual curation of disease genes took place)\n",
      "* **mmc3_2**: derived from Blair, et al. table S3, but also some manual curation\n",
      "* **comorbidities**: derived from Blair, et al., table S4, but disease names are fixed to be consistent with S3.\n",
      "* **cancer_table.txt**: corresponding to our Supplementary Table 2, a mapping of the Blair, et al., complex disease categories to TCGA cancer names.\n",
      "* **germline_to_remove**:  about 83 known germline cancer genes, downloaded from http://cancer.sanger.ac.uk/cosmic/census/tables?name=gmuts (germline mutations table), then converted to the Entrez gene symbols\n",
      "\n",
      "The result will be a directory containing these linked data. One will be created including the germline mutations (*mendelian_germline*) and one with the germline mutations from the Sanger/Cosmic census removed (*mendelian*). The data saved includes most of the information needed to complete the analysis, including comorbidity between each pair of Mendelian disease and cancer, and genes linked to each Mendelian disease and cancer. Additionally, this will create pathway enrichment results for each."
     ]
    },
    {
     "cell_type": "code",
     "collapsed": false,
     "input": [
      "load_mendelian_disease_info('mendelian', alterations)"
     ],
     "language": "python",
     "metadata": {},
     "outputs": []
    },
    {
     "cell_type": "heading",
     "level": 3,
     "metadata": {},
     "source": [
      "1.3 Setting up the Gene Interaction Networks"
     ]
    },
    {
     "cell_type": "markdown",
     "metadata": {},
     "source": [
      "This step creates the contents of *data_proccessed/biogrid* and *data_proccessed/humannet.9.unwt* for the network connection analyses described in the paper.\n",
      "\n",
      "BioGRID network uses the binary interactions in http://thebiogrid.org/downloads/archives/Release%20Archive/BIOGRID-3.2.119/BIOGRID-ORGANISM-3.2.119.mitab.zip .  This needs to be downloaded and unzipped into the *data_source* so that *data_source/biogrid/BIOGRID-ORGANISM-Homo_sapiens-3.2.119.mitab.txt* is readable from this directory.\n",
      "\n",
      "HumanNet network uses the data from http://www.functionalnet.org/humannet/HumanNet.v1.join.txt.  This file must be downloaded to *data_source* as well.\n",
      "\n",
      "The following command will:\n",
      "\n",
      "* parse the network files and select the edges matching our gene annotation\n",
      "* for both networks:\n",
      "    * create *nrand* random networks using the double edge swap algorithm\n",
      "    * evaluate the observed connections for the *mendelian* and *mendelian_germline* set of comorbidities on the true network and random networks. \n",
      "    \n",
      "This process may take an hour or more to run.  The results used in the paper are already present in the directories:\n",
      "\n",
      "* **data_processed/(network_name)/network**: the edge list for the network\n",
      "* **data_processed/(network_name)/rand**: directory containing the random networks\n",
      "* **data_processed/(network_name)/randcts**: number of connections between comorbid diseases in the random networks. Used for Supplementary Fig. 2 *network*\n",
      "* **mendelian/NEIGHBOR_COUNT.(network_name).(nrand).pkl**: pickle file containing results for the comorbidity_pairs analysis\n",
      "* **mendelian_germline/NEIGHBOR_COUNT.(network_name).(nrand).pkl**: pickle file containing results for the comorbidity_pairs germline cancer syndrome analysis\n",
      "\n"
     ]
    },
    {
     "cell_type": "code",
     "collapsed": false,
     "input": [
      "net_names = setup_networks('data_source/biogrid/BIOGRID-ORGANISM-Homo_sapiens-3.2.119.mitab.txt', \n",
      "                           'data_source/HumanNet.v1.join.txt', \n",
      "                           'mendelian',\n",
      "                           'mendelian_germline',\n",
      "                           nrand=2000)"
     ],
     "language": "python",
     "metadata": {},
     "outputs": []
    },
    {
     "cell_type": "markdown",
     "metadata": {},
     "source": [
      "Or, to use current networks without rerunning"
     ]
    },
    {
     "cell_type": "code",
     "collapsed": false,
     "input": [
      "net_names = ['biogrid','humannet.9.unwt']"
     ],
     "language": "python",
     "metadata": {},
     "outputs": [],
     "prompt_number": 20
    },
    {
     "cell_type": "heading",
     "level": 3,
     "metadata": {},
     "source": [
      "1.4 Setting up the coexpression data"
     ]
    },
    {
     "cell_type": "markdown",
     "metadata": {},
     "source": [
      "We start from the transcripts per million (TPM) for the 889 human samples from FANTOM5, downloaded from http://fantom.gsc.riken.jp/5/datafiles/latest/extra/CAGE_peaks/hg19.cage_peak_phase1and2combined_tpm_ann.osc.txt.gz. First, we convert to common Entrez identifiers, then we make an estimate of expression level of each gene in each sample by adding TPM from different peaks together.  \n",
      "\n",
      "Then we calculate coexpression of every cancer-linked gene (from the \"alterations\") structure above, and every other available gene, including the Mendelian disease genes.  Coexpression (Pearson correlation coefficient) is precalculated.  This is rather slow to calculate, taking a number of hours, so again the expression and coexpression is already available in *data_processed/fantom*.  \n",
      "\n",
      "However, if a different version of the firehose cancer data analysis is used, this must be run again.  The FANTOM5 CAGE peak data must be downloaded into *data_source/hg19.cage_peak_tpm_ann.osc.txt*. (This is about 1Gb). The code to reproduce the coexpression can be run below:"
     ]
    },
    {
     "cell_type": "code",
     "collapsed": true,
     "input": [
      "fantom()"
     ],
     "language": "python",
     "metadata": {},
     "outputs": []
    },
    {
     "cell_type": "heading",
     "level": 2,
     "metadata": {},
     "source": [
      "2. Running the analysis to make tables and figures"
     ]
    },
    {
     "cell_type": "markdown",
     "metadata": {},
     "source": [
      "This part actually compares the gene sets associated with each comorbid disease pair. The results will make text versions of the tables included in the manuscript, and will allow creation of the figures in the manuscript.\n",
      "\n"
     ]
    },
    {
     "cell_type": "heading",
     "level": 3,
     "metadata": {},
     "source": [
      "2.1 Assessment of the genetic similarity present across comorbid disease pairs "
     ]
    },
    {
     "cell_type": "markdown",
     "metadata": {},
     "source": [
      "This is described in the Results section \"Investigating genetic similarity between comorbid diseases\" and Method section \"Genetic similarity of comorbid diseases\".  This performs the statistical assessment of shared characteristics of comorbid disease gene sets."
     ]
    },
    {
     "cell_type": "code",
     "collapsed": false,
     "input": [
      "comorbidity_aggregation('mendelian','comorb_aggregate',100000, net_names)"
     ],
     "language": "python",
     "metadata": {},
     "outputs": [
      {
       "output_type": "stream",
       "stream": "stdout",
       "text": [
        "comorb_aggregate\n",
        "comorbid_edges= 797\tngreater=34\tp=0.017"
       ]
      },
      {
       "output_type": "stream",
       "stream": "stdout",
       "text": [
        "\n",
        "comorbid_edges= 296\tngreater=2\tp=0.002"
       ]
      },
      {
       "output_type": "stream",
       "stream": "stdout",
       "text": [
        "\n"
       ]
      },
      {
       "html": [
        "<div style=\"max-height:1000px;max-width:1500px;overflow:auto;\">\n",
        "<table border=\"1\" class=\"dataframe\">\n",
        "  <thead>\n",
        "    <tr style=\"text-align: right;\">\n",
        "      <th></th>\n",
        "      <th>count</th>\n",
        "      <th>p</th>\n",
        "    </tr>\n",
        "  </thead>\n",
        "  <tbody>\n",
        "    <tr>\n",
        "      <th>Gene_Overlap</th>\n",
        "      <td>  41</td>\n",
        "      <td> 0.02385</td>\n",
        "    </tr>\n",
        "    <tr>\n",
        "      <th>Shared_pathways</th>\n",
        "      <td> 136</td>\n",
        "      <td> 0.00000</td>\n",
        "    </tr>\n",
        "    <tr>\n",
        "      <th>biogrid</th>\n",
        "      <td> 797</td>\n",
        "      <td> 0.01700</td>\n",
        "    </tr>\n",
        "    <tr>\n",
        "      <th>humannet.9.unwt</th>\n",
        "      <td> 296</td>\n",
        "      <td> 0.00200</td>\n",
        "    </tr>\n",
        "  </tbody>\n",
        "</table>\n",
        "<p>4 rows \u00d7 2 columns</p>\n",
        "</div>"
       ],
       "metadata": {},
       "output_type": "pyout",
       "prompt_number": 22,
       "text": [
        "                 count        p\n",
        "Gene_Overlap        41  0.02385\n",
        "Shared_pathways    136  0.00000\n",
        "biogrid            797  0.01700\n",
        "humannet.9.unwt    296  0.00200\n",
        "\n",
        "[4 rows x 2 columns]"
       ]
      }
     ],
     "prompt_number": 22
    },
    {
     "cell_type": "heading",
     "level": 3,
     "metadata": {},
     "source": [
      "2.2 Genetic similarity per comorbid disease pair"
     ]
    },
    {
     "cell_type": "markdown",
     "metadata": {},
     "source": [
      "This is described in the Results section \"Prediction of diseases with shared cellular processes\" and Method section \"Genetic similarity of comorbid diseases\".  \n",
      "\n",
      "The below command will create the directory *comorbidity_analysis_mendelian* containing the results of the per-pair disease comparisons. This command also is rather slow to run. "
     ]
    },
    {
     "cell_type": "code",
     "collapsed": true,
     "input": [
      "comorbidity_pairs('mendelian')"
     ],
     "language": "python",
     "metadata": {},
     "outputs": [
      {
       "html": [
        "<div style=\"max-height:1000px;max-width:1500px;overflow:auto;\">\n",
        "<table border=\"1\" class=\"dataframe\">\n",
        "  <thead>\n",
        "    <tr style=\"text-align: right;\">\n",
        "      <th></th>\n",
        "      <th>comorb. association</th>\n",
        "    </tr>\n",
        "  </thead>\n",
        "  <tbody>\n",
        "    <tr>\n",
        "      <th>gene_enrichment</th>\n",
        "      <td> 0.014262</td>\n",
        "    </tr>\n",
        "    <tr>\n",
        "      <th>pathway_correlation</th>\n",
        "      <td> 0.010951</td>\n",
        "    </tr>\n",
        "    <tr>\n",
        "      <th>coex_CG</th>\n",
        "      <td> 0.001103</td>\n",
        "    </tr>\n",
        "    <tr>\n",
        "      <th>NC_set</th>\n",
        "      <td> 0.041618</td>\n",
        "    </tr>\n",
        "    <tr>\n",
        "      <th>Any Metric</th>\n",
        "      <td> 0.000077</td>\n",
        "    </tr>\n",
        "  </tbody>\n",
        "</table>\n",
        "<p>5 rows \u00d7 1 columns</p>\n",
        "</div>"
       ],
       "metadata": {},
       "output_type": "pyout",
       "prompt_number": 11,
       "text": [
        "                     comorb. association\n",
        "gene_enrichment                 0.014262\n",
        "pathway_correlation             0.010951\n",
        "coex_CG                         0.001103\n",
        "NC_set                          0.041618\n",
        "Any Metric                      0.000077\n",
        "\n",
        "[5 rows x 1 columns]"
       ]
      }
     ],
     "prompt_number": 11
    },
    {
     "cell_type": "code",
     "collapsed": false,
     "input": [
      "comorbidity_pairs('mendelian_germline')"
     ],
     "language": "python",
     "metadata": {},
     "outputs": []
    },
    {
     "cell_type": "markdown",
     "metadata": {},
     "source": [
      "The tables created in the comorbidity_analysis_mendelian\\* directories are as follows:\n",
      "\n",
      "* **peak_mut.xls**:  a file that MATLAB can read to make the figures.  Contains all pairwise scores for Mendelian disease and cancer\n",
      "* **report_pairs.xls**: a text version of the tables in Supplementary Table 3 & 4.  The format is described in those tables."
     ]
    },
    {
     "cell_type": "heading",
     "level": 3,
     "metadata": {},
     "source": [
      "2.3 Creating tables for the figures"
     ]
    },
    {
     "cell_type": "code",
     "collapsed": false,
     "input": [
      "figure_files('mendelian')"
     ],
     "language": "python",
     "metadata": {},
     "outputs": [],
     "prompt_number": 25
    },
    {
     "cell_type": "heading",
     "level": 2,
     "metadata": {},
     "source": [
      "Tables and figures from the manuscript"
     ]
    },
    {
     "cell_type": "markdown",
     "metadata": {},
     "source": [
      "The results of this run contain the supplementary tables in a text format that can be opened in Excel:\n",
      "\n",
      "* **Supp. Table 1**: data_processed/supp_tab_1.txt\n",
      "* **Supp. Table 3**: comorbidity_analysis_mendelian_germline/report_pairs.xls -- includes all comorbid and genetically similar disease pairs.  These can be filtered in Excel to only view the Mendelian cancer syndromes.\n",
      "* **Supp. Table 4**: comorbidity_analysis_mendelian/report_pairs.xls \n",
      "\n",
      "Supplementary Table 2 corresponds to data_source/cancer_tables.txt, and was manually created rather than being the output of these scripts.\n",
      "\n",
      "The figures were all made in MATLAB. They relied on tables pre-generated from Python, running the *figure_files* command above, and stored in the directory *figwork*. "
     ]
    },
    {
     "cell_type": "markdown",
     "metadata": {},
     "source": [
      "Then, direct MATLAB to the analysis directory (*melamed_mendelian*, the directory that we have been running Python in). Then, run the script *code/figures_final.m* to generate the figures. This will generate them all at once, but one figure at a time can be created instead by copy-pasting the relevant section of the script into MATLAB."
     ]
    }
   ],
   "metadata": {}
  }
 ]
}
